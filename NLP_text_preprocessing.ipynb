{
  "nbformat": 4,
  "nbformat_minor": 0,
  "metadata": {
    "colab": {
      "provenance": [],
      "collapsed_sections": [],
      "authorship_tag": "ABX9TyNK4o7PwHgyfJyP0Av7sl53",
      "include_colab_link": true
    },
    "kernelspec": {
      "name": "python3",
      "display_name": "Python 3"
    },
    "language_info": {
      "name": "python"
    }
  },
  "cells": [
    {
      "cell_type": "markdown",
      "metadata": {
        "id": "view-in-github",
        "colab_type": "text"
      },
      "source": [
        "<a href=\"https://colab.research.google.com/github/yash11046/py/blob/master/NLP_text_preprocessing.ipynb\" target=\"_parent\"><img src=\"https://colab.research.google.com/assets/colab-badge.svg\" alt=\"Open In Colab\"/></a>"
      ]
    },
    {
      "cell_type": "code",
      "execution_count": 1,
      "metadata": {
        "colab": {
          "base_uri": "https://localhost:8080/"
        },
        "id": "AgNth4gcLHs3",
        "outputId": "b59ecd2a-bd47-4e1d-a53d-426006bbf65a"
      },
      "outputs": [
        {
          "output_type": "stream",
          "name": "stdout",
          "text": [
            "Looking in indexes: https://pypi.org/simple, https://us-python.pkg.dev/colab-wheels/public/simple/\n",
            "Requirement already satisfied: nltk in /usr/local/lib/python3.7/dist-packages (3.7)\n",
            "Requirement already satisfied: tqdm in /usr/local/lib/python3.7/dist-packages (from nltk) (4.64.1)\n",
            "Requirement already satisfied: click in /usr/local/lib/python3.7/dist-packages (from nltk) (7.1.2)\n",
            "Requirement already satisfied: joblib in /usr/local/lib/python3.7/dist-packages (from nltk) (1.2.0)\n",
            "Requirement already satisfied: regex>=2021.8.3 in /usr/local/lib/python3.7/dist-packages (from nltk) (2022.6.2)\n"
          ]
        }
      ],
      "source": [
        "!pip install nltk"
      ]
    },
    {
      "cell_type": "code",
      "source": [
        "paragraph=\"\"\"\n",
        "Harry Potter was first introduced in the novel Harry Potter and the Philosopher’s Stone (1997; also published as Harry Potter and the Sorcerer’s Stone), as an orphan who is mistreated by his guardian aunt and uncle and their son. On his 11th birthday Harry discovers that his parents were a witch and a wizard and that he, a wizard himself, has been invited to attend Hogwarts School of Witchcraft and Wizardry. He also learns that his parents had not perished in a car accident, as his aunt and uncle had told him, but that they instead had been murdered by an evil wizard named Voldemort. Harry was the only person to have ever survived an attack by Voldemort—by somehow rebounding the latter’s “killing curse”—which left him with a lightning-bolt-shaped scar on his forehead. Indeed, Harry’s mysterious survival had all but killed Voldemort, who was left disembodied, and the young boy was thus already a celebrated figure in the “wizarding” community. At Hogwarts Harry becomes fast friends with classmates Ron Weasley and Hermione Granger and finds a rival in Draco Malfoy. He is taken under the wing of the school’s headmaster, Albus Dumbledore. These relationships persist throughout the series, especially as the young wizards and witches grow older and are called upon to take sides in a growing wizard war.\n",
        "\"\"\""
      ],
      "metadata": {
        "id": "LXl--yKSQxr_"
      },
      "execution_count": 34,
      "outputs": []
    },
    {
      "cell_type": "code",
      "source": [
        "paragraph"
      ],
      "metadata": {
        "colab": {
          "base_uri": "https://localhost:8080/",
          "height": 218
        },
        "id": "bRqwQ0zPLzFl",
        "outputId": "69904ebf-c78c-4c41-874e-6facaddcd082"
      },
      "execution_count": 35,
      "outputs": [
        {
          "output_type": "execute_result",
          "data": {
            "text/plain": [
              "'\\nHarry Potter was first introduced in the novel Harry Potter and the Philosopher’s Stone (1997; also published as Harry Potter and the Sorcerer’s Stone), as an orphan who is mistreated by his guardian aunt and uncle and their son. On his 11th birthday Harry discovers that his parents were a witch and a wizard and that he, a wizard himself, has been invited to attend Hogwarts School of Witchcraft and Wizardry. He also learns that his parents had not perished in a car accident, as his aunt and uncle had told him, but that they instead had been murdered by an evil wizard named Voldemort. Harry was the only person to have ever survived an attack by Voldemort—by somehow rebounding the latter’s “killing curse”—which left him with a lightning-bolt-shaped scar on his forehead. Indeed, Harry’s mysterious survival had all but killed Voldemort, who was left disembodied, and the young boy was thus already a celebrated figure in the “wizarding” community. At Hogwarts Harry becomes fast friends with classmates Ron Weasley and Hermione Granger and finds a rival in Draco Malfoy. He is taken under the wing of the school’s headmaster, Albus Dumbledore. These relationships persist throughout the series, especially as the young wizards and witches grow older and are called upon to take sides in a growing wizard war.\\n'"
            ],
            "application/vnd.google.colaboratory.intrinsic+json": {
              "type": "string"
            }
          },
          "metadata": {},
          "execution_count": 35
        }
      ]
    },
    {
      "cell_type": "code",
      "source": [
        "import nltk\n",
        "from nltk.stem import PorterStemmer\n",
        "from nltk.corpus import stopwords"
      ],
      "metadata": {
        "id": "R0zbhrK2L8NC"
      },
      "execution_count": 36,
      "outputs": []
    },
    {
      "cell_type": "code",
      "source": [
        "## tokenization --paragraph into sentence/ word\n",
        "nltk.download('punkt') ## touse tokenization punkt pakage is used \n"
      ],
      "metadata": {
        "colab": {
          "base_uri": "https://localhost:8080/"
        },
        "id": "uE1BHMbaMW9p",
        "outputId": "7f0c4e9d-5505-4d45-97ea-a1c5b6903062"
      },
      "execution_count": 37,
      "outputs": [
        {
          "output_type": "stream",
          "name": "stderr",
          "text": [
            "[nltk_data] Downloading package punkt to /root/nltk_data...\n",
            "[nltk_data]   Package punkt is already up-to-date!\n"
          ]
        },
        {
          "output_type": "execute_result",
          "data": {
            "text/plain": [
              "True"
            ]
          },
          "metadata": {},
          "execution_count": 37
        }
      ]
    },
    {
      "cell_type": "code",
      "source": [
        "a=nltk.sent_tokenize(paragraph)"
      ],
      "metadata": {
        "id": "ki8l2pltNUBr"
      },
      "execution_count": 38,
      "outputs": []
    },
    {
      "cell_type": "code",
      "source": [
        "print(a)"
      ],
      "metadata": {
        "colab": {
          "base_uri": "https://localhost:8080/"
        },
        "id": "7QCgvJfiNVs_",
        "outputId": "19dd6537-ac03-4c61-fc0a-a845049e5bce"
      },
      "execution_count": 39,
      "outputs": [
        {
          "output_type": "stream",
          "name": "stdout",
          "text": [
            "['\\nHarry Potter was first introduced in the novel Harry Potter and the Philosopher’s Stone (1997; also published as Harry Potter and the Sorcerer’s Stone), as an orphan who is mistreated by his guardian aunt and uncle and their son.', 'On his 11th birthday Harry discovers that his parents were a witch and a wizard and that he, a wizard himself, has been invited to attend Hogwarts School of Witchcraft and Wizardry.', 'He also learns that his parents had not perished in a car accident, as his aunt and uncle had told him, but that they instead had been murdered by an evil wizard named Voldemort.', 'Harry was the only person to have ever survived an attack by Voldemort—by somehow rebounding the latter’s “killing curse”—which left him with a lightning-bolt-shaped scar on his forehead.', 'Indeed, Harry’s mysterious survival had all but killed Voldemort, who was left disembodied, and the young boy was thus already a celebrated figure in the “wizarding” community.', 'At Hogwarts Harry becomes fast friends with classmates Ron Weasley and Hermione Granger and finds a rival in Draco Malfoy.', 'He is taken under the wing of the school’s headmaster, Albus Dumbledore.', 'These relationships persist throughout the series, especially as the young wizards and witches grow older and are called upon to take sides in a growing wizard war.']\n"
          ]
        }
      ]
    },
    {
      "cell_type": "code",
      "source": [
        "type(a)"
      ],
      "metadata": {
        "colab": {
          "base_uri": "https://localhost:8080/"
        },
        "id": "KY_SjHuHNtKQ",
        "outputId": "afbd079b-8951-422f-d46f-a0d2a07bf49a"
      },
      "execution_count": 40,
      "outputs": [
        {
          "output_type": "execute_result",
          "data": {
            "text/plain": [
              "list"
            ]
          },
          "metadata": {},
          "execution_count": 40
        }
      ]
    },
    {
      "cell_type": "code",
      "source": [
        "## here tokenization is completed\n",
        "## now using stemming"
      ],
      "metadata": {
        "id": "cspZec0xN1Mo"
      },
      "execution_count": 41,
      "outputs": []
    },
    {
      "cell_type": "code",
      "source": [
        "stemmer=PorterStemmer()"
      ],
      "metadata": {
        "id": "LuciLP9GOZue"
      },
      "execution_count": 42,
      "outputs": []
    },
    {
      "cell_type": "code",
      "source": [
        "stemmer.stem('thinking')"
      ],
      "metadata": {
        "colab": {
          "base_uri": "https://localhost:8080/",
          "height": 36
        },
        "id": "fTlfnxFiOfYu",
        "outputId": "355af1d2-1d19-4ad4-8645-8104dc95dda7"
      },
      "execution_count": 43,
      "outputs": [
        {
          "output_type": "execute_result",
          "data": {
            "text/plain": [
              "'think'"
            ],
            "application/vnd.google.colaboratory.intrinsic+json": {
              "type": "string"
            }
          },
          "metadata": {},
          "execution_count": 43
        }
      ]
    },
    {
      "cell_type": "code",
      "source": [
        "stemmer.stem('history')"
      ],
      "metadata": {
        "colab": {
          "base_uri": "https://localhost:8080/",
          "height": 36
        },
        "id": "M-EZ1bK7P2hi",
        "outputId": "820fff74-2534-440b-f21a-a09f41cdbadb"
      },
      "execution_count": 44,
      "outputs": [
        {
          "output_type": "execute_result",
          "data": {
            "text/plain": [
              "'histori'"
            ],
            "application/vnd.google.colaboratory.intrinsic+json": {
              "type": "string"
            }
          },
          "metadata": {},
          "execution_count": 44
        }
      ]
    },
    {
      "cell_type": "code",
      "source": [
        "## appling lematization"
      ],
      "metadata": {
        "id": "gH1LHQVPOoXa"
      },
      "execution_count": 45,
      "outputs": []
    },
    {
      "cell_type": "code",
      "source": [
        "nltk.download('omw-1.4')"
      ],
      "metadata": {
        "colab": {
          "base_uri": "https://localhost:8080/"
        },
        "id": "6wp_WDktPkEK",
        "outputId": "a40daeb8-1cfb-4850-940c-b17ecf91fe91"
      },
      "execution_count": 46,
      "outputs": [
        {
          "output_type": "stream",
          "name": "stderr",
          "text": [
            "[nltk_data] Downloading package omw-1.4 to /root/nltk_data...\n",
            "[nltk_data]   Package omw-1.4 is already up-to-date!\n"
          ]
        },
        {
          "output_type": "execute_result",
          "data": {
            "text/plain": [
              "True"
            ]
          },
          "metadata": {},
          "execution_count": 46
        }
      ]
    },
    {
      "cell_type": "code",
      "source": [
        "from nltk.stem import WordNetLemmatizer\n",
        "lemmatizer=WordNetLemmatizer()"
      ],
      "metadata": {
        "id": "EGMSYlSQO6Yy"
      },
      "execution_count": 47,
      "outputs": []
    },
    {
      "cell_type": "code",
      "source": [
        "lemmatizer.lemmatize('history')"
      ],
      "metadata": {
        "colab": {
          "base_uri": "https://localhost:8080/",
          "height": 36
        },
        "id": "EeEjaysSPLNw",
        "outputId": "607d9761-d0e5-4cb1-8cbe-15658c117e46"
      },
      "execution_count": 48,
      "outputs": [
        {
          "output_type": "execute_result",
          "data": {
            "text/plain": [
              "'history'"
            ],
            "application/vnd.google.colaboratory.intrinsic+json": {
              "type": "string"
            }
          },
          "metadata": {},
          "execution_count": 48
        }
      ]
    },
    {
      "cell_type": "code",
      "source": [
        "### cleaning the text "
      ],
      "metadata": {
        "id": "3d2p1lKzQVAJ"
      },
      "execution_count": 49,
      "outputs": []
    },
    {
      "cell_type": "code",
      "source": [
        "len(a)"
      ],
      "metadata": {
        "colab": {
          "base_uri": "https://localhost:8080/"
        },
        "id": "JCvpn8-GQnEU",
        "outputId": "21eb608a-9382-4b36-aa02-6667588572fc"
      },
      "execution_count": 50,
      "outputs": [
        {
          "output_type": "execute_result",
          "data": {
            "text/plain": [
              "8"
            ]
          },
          "metadata": {},
          "execution_count": 50
        }
      ]
    },
    {
      "cell_type": "code",
      "source": [
        "import re"
      ],
      "metadata": {
        "id": "guKJmTkXPWHV"
      },
      "execution_count": 52,
      "outputs": []
    },
    {
      "cell_type": "code",
      "source": [
        "from typing_extensions import reveal_type\n",
        "## ^ -- is other than symobl\n",
        "corpus=[]\n",
        "for i in range(len(a)):\n",
        "  review=re.sub('[^a-zA-Z]',' ',a[i])\n",
        "  review=review.lower()\n",
        "  corpus.append(review)\n"
      ],
      "metadata": {
        "id": "3QmVgrToRj8a"
      },
      "execution_count": 54,
      "outputs": []
    },
    {
      "cell_type": "code",
      "source": [
        "corpus"
      ],
      "metadata": {
        "colab": {
          "base_uri": "https://localhost:8080/"
        },
        "id": "IkDoRUFLS2eZ",
        "outputId": "629051ec-17df-4914-fc19-5cd9680f545b"
      },
      "execution_count": 55,
      "outputs": [
        {
          "output_type": "execute_result",
          "data": {
            "text/plain": [
              "[' harry potter was first introduced in the novel harry potter and the philosopher s stone        also published as harry potter and the sorcerer s stone   as an orphan who is mistreated by his guardian aunt and uncle and their son ',\n",
              " 'on his   th birthday harry discovers that his parents were a witch and a wizard and that he  a wizard himself  has been invited to attend hogwarts school of witchcraft and wizardry ',\n",
              " 'he also learns that his parents had not perished in a car accident  as his aunt and uncle had told him  but that they instead had been murdered by an evil wizard named voldemort ',\n",
              " 'harry was the only person to have ever survived an attack by voldemort by somehow rebounding the latter s  killing curse  which left him with a lightning bolt shaped scar on his forehead ',\n",
              " 'indeed  harry s mysterious survival had all but killed voldemort  who was left disembodied  and the young boy was thus already a celebrated figure in the  wizarding  community ',\n",
              " 'at hogwarts harry becomes fast friends with classmates ron weasley and hermione granger and finds a rival in draco malfoy ',\n",
              " 'he is taken under the wing of the school s headmaster  albus dumbledore ',\n",
              " 'these relationships persist throughout the series  especially as the young wizards and witches grow older and are called upon to take sides in a growing wizard war ']"
            ]
          },
          "metadata": {},
          "execution_count": 55
        }
      ]
    },
    {
      "cell_type": "code",
      "source": [
        "## clean the data over here"
      ],
      "metadata": {
        "id": "_5pFyxEMS7_U"
      },
      "execution_count": 56,
      "outputs": []
    },
    {
      "cell_type": "code",
      "source": [
        "for i in corpus:\n",
        "  print(i)"
      ],
      "metadata": {
        "colab": {
          "base_uri": "https://localhost:8080/"
        },
        "id": "Zrmii7TPTM7s",
        "outputId": "61e6acae-e0a4-4c0e-e865-fc463013b5e3"
      },
      "execution_count": 57,
      "outputs": [
        {
          "output_type": "stream",
          "name": "stdout",
          "text": [
            " harry potter was first introduced in the novel harry potter and the philosopher s stone        also published as harry potter and the sorcerer s stone   as an orphan who is mistreated by his guardian aunt and uncle and their son \n",
            "on his   th birthday harry discovers that his parents were a witch and a wizard and that he  a wizard himself  has been invited to attend hogwarts school of witchcraft and wizardry \n",
            "he also learns that his parents had not perished in a car accident  as his aunt and uncle had told him  but that they instead had been murdered by an evil wizard named voldemort \n",
            "harry was the only person to have ever survived an attack by voldemort by somehow rebounding the latter s  killing curse  which left him with a lightning bolt shaped scar on his forehead \n",
            "indeed  harry s mysterious survival had all but killed voldemort  who was left disembodied  and the young boy was thus already a celebrated figure in the  wizarding  community \n",
            "at hogwarts harry becomes fast friends with classmates ron weasley and hermione granger and finds a rival in draco malfoy \n",
            "he is taken under the wing of the school s headmaster  albus dumbledore \n",
            "these relationships persist throughout the series  especially as the young wizards and witches grow older and are called upon to take sides in a growing wizard war \n"
          ]
        }
      ]
    },
    {
      "cell_type": "code",
      "source": [
        " nltk.download('stopwords')"
      ],
      "metadata": {
        "colab": {
          "base_uri": "https://localhost:8080/"
        },
        "id": "uzrmTYtkVcI2",
        "outputId": "064c7321-28ef-4025-ba63-4dc5f8a589d2"
      },
      "execution_count": 60,
      "outputs": [
        {
          "output_type": "stream",
          "name": "stderr",
          "text": [
            "[nltk_data] Downloading package stopwords to /root/nltk_data...\n",
            "[nltk_data]   Unzipping corpora/stopwords.zip.\n"
          ]
        },
        {
          "output_type": "execute_result",
          "data": {
            "text/plain": [
              "True"
            ]
          },
          "metadata": {},
          "execution_count": 60
        }
      ]
    },
    {
      "cell_type": "code",
      "source": [
        "## appling lemmatization on  corpus\n",
        "for i in corpus:\n",
        "   words=nltk.word_tokenize(i)\n",
        "   for word in words:\n",
        "     if word not in set(stopwords.words('english')):\n",
        "       print(lemmatizer.lemmatize(word))"
      ],
      "metadata": {
        "colab": {
          "base_uri": "https://localhost:8080/"
        },
        "id": "r5HkRz0jTpgZ",
        "outputId": "8c370cad-9b6d-4ee3-cf18-530695a2aa59"
      },
      "execution_count": 61,
      "outputs": [
        {
          "output_type": "stream",
          "name": "stdout",
          "text": [
            "harry\n",
            "potter\n",
            "first\n",
            "introduced\n",
            "novel\n",
            "harry\n",
            "potter\n",
            "philosopher\n",
            "stone\n",
            "also\n",
            "published\n",
            "harry\n",
            "potter\n",
            "sorcerer\n",
            "stone\n",
            "orphan\n",
            "mistreated\n",
            "guardian\n",
            "aunt\n",
            "uncle\n",
            "son\n",
            "th\n",
            "birthday\n",
            "harry\n",
            "discovers\n",
            "parent\n",
            "witch\n",
            "wizard\n",
            "wizard\n",
            "invited\n",
            "attend\n",
            "hogwarts\n",
            "school\n",
            "witchcraft\n",
            "wizardry\n",
            "also\n",
            "learns\n",
            "parent\n",
            "perished\n",
            "car\n",
            "accident\n",
            "aunt\n",
            "uncle\n",
            "told\n",
            "instead\n",
            "murdered\n",
            "evil\n",
            "wizard\n",
            "named\n",
            "voldemort\n",
            "harry\n",
            "person\n",
            "ever\n",
            "survived\n",
            "attack\n",
            "voldemort\n",
            "somehow\n",
            "rebounding\n",
            "latter\n",
            "killing\n",
            "curse\n",
            "left\n",
            "lightning\n",
            "bolt\n",
            "shaped\n",
            "scar\n",
            "forehead\n",
            "indeed\n",
            "harry\n",
            "mysterious\n",
            "survival\n",
            "killed\n",
            "voldemort\n",
            "left\n",
            "disembodied\n",
            "young\n",
            "boy\n",
            "thus\n",
            "already\n",
            "celebrated\n",
            "figure\n",
            "wizarding\n",
            "community\n",
            "hogwarts\n",
            "harry\n",
            "becomes\n",
            "fast\n",
            "friend\n",
            "classmate\n",
            "ron\n",
            "weasley\n",
            "hermione\n",
            "granger\n",
            "find\n",
            "rival\n",
            "draco\n",
            "malfoy\n",
            "taken\n",
            "wing\n",
            "school\n",
            "headmaster\n",
            "albus\n",
            "dumbledore\n",
            "relationship\n",
            "persist\n",
            "throughout\n",
            "series\n",
            "especially\n",
            "young\n",
            "wizard\n",
            "witch\n",
            "grow\n",
            "older\n",
            "called\n",
            "upon\n",
            "take\n",
            "side\n",
            "growing\n",
            "wizard\n",
            "war\n"
          ]
        }
      ]
    },
    {
      "cell_type": "code",
      "source": [
        "stopwords.words('english')"
      ],
      "metadata": {
        "colab": {
          "base_uri": "https://localhost:8080/"
        },
        "id": "JMUTmvT-VU_V",
        "outputId": "a9373006-50a6-4640-fb33-266ec8e0f57b"
      },
      "execution_count": 62,
      "outputs": [
        {
          "output_type": "execute_result",
          "data": {
            "text/plain": [
              "['i',\n",
              " 'me',\n",
              " 'my',\n",
              " 'myself',\n",
              " 'we',\n",
              " 'our',\n",
              " 'ours',\n",
              " 'ourselves',\n",
              " 'you',\n",
              " \"you're\",\n",
              " \"you've\",\n",
              " \"you'll\",\n",
              " \"you'd\",\n",
              " 'your',\n",
              " 'yours',\n",
              " 'yourself',\n",
              " 'yourselves',\n",
              " 'he',\n",
              " 'him',\n",
              " 'his',\n",
              " 'himself',\n",
              " 'she',\n",
              " \"she's\",\n",
              " 'her',\n",
              " 'hers',\n",
              " 'herself',\n",
              " 'it',\n",
              " \"it's\",\n",
              " 'its',\n",
              " 'itself',\n",
              " 'they',\n",
              " 'them',\n",
              " 'their',\n",
              " 'theirs',\n",
              " 'themselves',\n",
              " 'what',\n",
              " 'which',\n",
              " 'who',\n",
              " 'whom',\n",
              " 'this',\n",
              " 'that',\n",
              " \"that'll\",\n",
              " 'these',\n",
              " 'those',\n",
              " 'am',\n",
              " 'is',\n",
              " 'are',\n",
              " 'was',\n",
              " 'were',\n",
              " 'be',\n",
              " 'been',\n",
              " 'being',\n",
              " 'have',\n",
              " 'has',\n",
              " 'had',\n",
              " 'having',\n",
              " 'do',\n",
              " 'does',\n",
              " 'did',\n",
              " 'doing',\n",
              " 'a',\n",
              " 'an',\n",
              " 'the',\n",
              " 'and',\n",
              " 'but',\n",
              " 'if',\n",
              " 'or',\n",
              " 'because',\n",
              " 'as',\n",
              " 'until',\n",
              " 'while',\n",
              " 'of',\n",
              " 'at',\n",
              " 'by',\n",
              " 'for',\n",
              " 'with',\n",
              " 'about',\n",
              " 'against',\n",
              " 'between',\n",
              " 'into',\n",
              " 'through',\n",
              " 'during',\n",
              " 'before',\n",
              " 'after',\n",
              " 'above',\n",
              " 'below',\n",
              " 'to',\n",
              " 'from',\n",
              " 'up',\n",
              " 'down',\n",
              " 'in',\n",
              " 'out',\n",
              " 'on',\n",
              " 'off',\n",
              " 'over',\n",
              " 'under',\n",
              " 'again',\n",
              " 'further',\n",
              " 'then',\n",
              " 'once',\n",
              " 'here',\n",
              " 'there',\n",
              " 'when',\n",
              " 'where',\n",
              " 'why',\n",
              " 'how',\n",
              " 'all',\n",
              " 'any',\n",
              " 'both',\n",
              " 'each',\n",
              " 'few',\n",
              " 'more',\n",
              " 'most',\n",
              " 'other',\n",
              " 'some',\n",
              " 'such',\n",
              " 'no',\n",
              " 'nor',\n",
              " 'not',\n",
              " 'only',\n",
              " 'own',\n",
              " 'same',\n",
              " 'so',\n",
              " 'than',\n",
              " 'too',\n",
              " 'very',\n",
              " 's',\n",
              " 't',\n",
              " 'can',\n",
              " 'will',\n",
              " 'just',\n",
              " 'don',\n",
              " \"don't\",\n",
              " 'should',\n",
              " \"should've\",\n",
              " 'now',\n",
              " 'd',\n",
              " 'll',\n",
              " 'm',\n",
              " 'o',\n",
              " 're',\n",
              " 've',\n",
              " 'y',\n",
              " 'ain',\n",
              " 'aren',\n",
              " \"aren't\",\n",
              " 'couldn',\n",
              " \"couldn't\",\n",
              " 'didn',\n",
              " \"didn't\",\n",
              " 'doesn',\n",
              " \"doesn't\",\n",
              " 'hadn',\n",
              " \"hadn't\",\n",
              " 'hasn',\n",
              " \"hasn't\",\n",
              " 'haven',\n",
              " \"haven't\",\n",
              " 'isn',\n",
              " \"isn't\",\n",
              " 'ma',\n",
              " 'mightn',\n",
              " \"mightn't\",\n",
              " 'mustn',\n",
              " \"mustn't\",\n",
              " 'needn',\n",
              " \"needn't\",\n",
              " 'shan',\n",
              " \"shan't\",\n",
              " 'shouldn',\n",
              " \"shouldn't\",\n",
              " 'wasn',\n",
              " \"wasn't\",\n",
              " 'weren',\n",
              " \"weren't\",\n",
              " 'won',\n",
              " \"won't\",\n",
              " 'wouldn',\n",
              " \"wouldn't\"]"
            ]
          },
          "metadata": {},
          "execution_count": 62
        }
      ]
    },
    {
      "cell_type": "code",
      "source": [
        "## extra\n",
        "corpus=[]\n",
        "for i in range(len(a)):\n",
        "  review=re.sub('[^a-zA-Z]',' ',a[i])\n",
        "  review=review.lower()\n",
        "  review=review.split()\n",
        "  review=[lemmatizer.lemmatize(word)for word in review if not word in set(stopwords.words('english'))]\n",
        "  review=' '.join(review)\n",
        "  corpus.append(review)"
      ],
      "metadata": {
        "id": "lZCSo_EwYdtK"
      },
      "execution_count": 80,
      "outputs": []
    },
    {
      "cell_type": "code",
      "source": [
        "## using back of words"
      ],
      "metadata": {
        "id": "KR8Cld6sV3V1"
      },
      "execution_count": 81,
      "outputs": []
    },
    {
      "cell_type": "code",
      "source": [
        "from sklearn.feature_extraction.text import CountVectorizer\n",
        "cv=CountVectorizer( binary= True)"
      ],
      "metadata": {
        "id": "LIqoGpy6WQai"
      },
      "execution_count": 82,
      "outputs": []
    },
    {
      "cell_type": "code",
      "source": [
        "x=cv.fit_transform(corpus)"
      ],
      "metadata": {
        "id": "D_MC_zWrWqDM"
      },
      "execution_count": 83,
      "outputs": []
    },
    {
      "cell_type": "code",
      "source": [
        "cv.vocabulary_"
      ],
      "metadata": {
        "colab": {
          "base_uri": "https://localhost:8080/"
        },
        "id": "ISQgRgMuWyWH",
        "outputId": "0216c310-f0ce-4de6-c00e-dda7f2f800b5"
      },
      "execution_count": 84,
      "outputs": [
        {
          "output_type": "execute_result",
          "data": {
            "text/plain": [
              "{'harry': 34,\n",
              " 'potter': 61,\n",
              " 'first': 27,\n",
              " 'introduced': 40,\n",
              " 'novel': 53,\n",
              " 'philosopher': 60,\n",
              " 'stone': 75,\n",
              " 'also': 3,\n",
              " 'published': 62,\n",
              " 'sorcerer': 74,\n",
              " 'orphan': 55,\n",
              " 'mistreated': 49,\n",
              " 'guardian': 33,\n",
              " 'aunt': 6,\n",
              " 'uncle': 84,\n",
              " 'son': 73,\n",
              " 'th': 80,\n",
              " 'birthday': 8,\n",
              " 'discovers': 17,\n",
              " 'parent': 56,\n",
              " 'witch': 90,\n",
              " 'wizard': 92,\n",
              " 'invited': 41,\n",
              " 'attend': 5,\n",
              " 'hogwarts': 37,\n",
              " 'school': 68,\n",
              " 'witchcraft': 91,\n",
              " 'wizardry': 94,\n",
              " 'learns': 45,\n",
              " 'perished': 57,\n",
              " 'car': 12,\n",
              " 'accident': 0,\n",
              " 'told': 83,\n",
              " 'instead': 39,\n",
              " 'murdered': 50,\n",
              " 'evil': 23,\n",
              " 'named': 52,\n",
              " 'voldemort': 86,\n",
              " 'person': 59,\n",
              " 'ever': 22,\n",
              " 'survived': 77,\n",
              " 'attack': 4,\n",
              " 'somehow': 72,\n",
              " 'rebounding': 63,\n",
              " 'latter': 44,\n",
              " 'killing': 43,\n",
              " 'curse': 16,\n",
              " 'left': 46,\n",
              " 'lightning': 47,\n",
              " 'bolt': 9,\n",
              " 'shaped': 70,\n",
              " 'scar': 67,\n",
              " 'forehead': 28,\n",
              " 'indeed': 38,\n",
              " 'mysterious': 51,\n",
              " 'survival': 76,\n",
              " 'killed': 42,\n",
              " 'disembodied': 18,\n",
              " 'young': 95,\n",
              " 'boy': 10,\n",
              " 'thus': 82,\n",
              " 'already': 2,\n",
              " 'celebrated': 13,\n",
              " 'figure': 25,\n",
              " 'wizarding': 93,\n",
              " 'community': 15,\n",
              " 'becomes': 7,\n",
              " 'fast': 24,\n",
              " 'friend': 29,\n",
              " 'classmate': 14,\n",
              " 'ron': 66,\n",
              " 'weasley': 88,\n",
              " 'hermione': 36,\n",
              " 'granger': 30,\n",
              " 'find': 26,\n",
              " 'rival': 65,\n",
              " 'draco': 19,\n",
              " 'malfoy': 48,\n",
              " 'taken': 79,\n",
              " 'wing': 89,\n",
              " 'headmaster': 35,\n",
              " 'albus': 1,\n",
              " 'dumbledore': 20,\n",
              " 'relationship': 64,\n",
              " 'persist': 58,\n",
              " 'throughout': 81,\n",
              " 'series': 69,\n",
              " 'especially': 21,\n",
              " 'grow': 31,\n",
              " 'older': 54,\n",
              " 'called': 11,\n",
              " 'upon': 85,\n",
              " 'take': 78,\n",
              " 'side': 71,\n",
              " 'growing': 32,\n",
              " 'war': 87}"
            ]
          },
          "metadata": {},
          "execution_count": 84
        }
      ]
    },
    {
      "cell_type": "code",
      "source": [
        " corpus[0]"
      ],
      "metadata": {
        "colab": {
          "base_uri": "https://localhost:8080/",
          "height": 54
        },
        "id": "jzWthxsTW4TY",
        "outputId": "79d222df-04cd-42c9-bec9-c26e5457bcee"
      },
      "execution_count": 85,
      "outputs": [
        {
          "output_type": "execute_result",
          "data": {
            "text/plain": [
              "'harry potter first introduced novel harry potter philosopher stone also published harry potter sorcerer stone orphan mistreated guardian aunt uncle son'"
            ],
            "application/vnd.google.colaboratory.intrinsic+json": {
              "type": "string"
            }
          },
          "metadata": {},
          "execution_count": 85
        }
      ]
    },
    {
      "cell_type": "code",
      "source": [
        "x[0].toarray()"
      ],
      "metadata": {
        "colab": {
          "base_uri": "https://localhost:8080/"
        },
        "id": "QZ2rdIrKXMEu",
        "outputId": "e187a4c6-6534-4aee-c2d9-68588951eff8"
      },
      "execution_count": 86,
      "outputs": [
        {
          "output_type": "execute_result",
          "data": {
            "text/plain": [
              "array([[0, 0, 0, 1, 0, 0, 1, 0, 0, 0, 0, 0, 0, 0, 0, 0, 0, 0, 0, 0, 0, 0,\n",
              "        0, 0, 0, 0, 0, 1, 0, 0, 0, 0, 0, 1, 1, 0, 0, 0, 0, 0, 1, 0, 0, 0,\n",
              "        0, 0, 0, 0, 0, 1, 0, 0, 0, 1, 0, 1, 0, 0, 0, 0, 1, 1, 1, 0, 0, 0,\n",
              "        0, 0, 0, 0, 0, 0, 0, 1, 1, 1, 0, 0, 0, 0, 0, 0, 0, 0, 1, 0, 0, 0,\n",
              "        0, 0, 0, 0, 0, 0, 0, 0]])"
            ]
          },
          "metadata": {},
          "execution_count": 86
        }
      ]
    },
    {
      "cell_type": "code",
      "source": [],
      "metadata": {
        "id": "JZ4LzFLUXeEO"
      },
      "execution_count": null,
      "outputs": []
    }
  ]
}